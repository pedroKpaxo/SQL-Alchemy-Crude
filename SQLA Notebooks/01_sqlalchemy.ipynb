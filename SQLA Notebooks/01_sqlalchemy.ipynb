{
 "cells": [
  {
   "cell_type": "markdown",
   "metadata": {},
   "source": [
    "# SQL Alchemy INTRO Notebook\n",
    "\n",
    "Introdução ao SQLAlchemy.\n",
    "\n",
    "Baseada em:\n",
    "[documentação] (https://docs.sqlalchemy.org/en/14/orm/tutorial.html#version-check)"
   ]
  },
  {
   "cell_type": "code",
   "execution_count": 2,
   "metadata": {},
   "outputs": [],
   "source": [
    "import sqlalchemy\n",
    "from sqlalchemy import create_engine\n",
    "from sqlalchemy.orm import declarative_base,sessionmaker\n",
    "from sqlalchemy import Column, Integer, String\n",
    "\n",
    "\n",
    "\n",
    "# - Criando uma engine.\n",
    "engine = create_engine('sqlite:///sdata.db', echo=True)\n",
    "Base = declarative_base()\n"
   ]
  },
  {
   "cell_type": "markdown",
   "metadata": {},
   "source": [
    "# Declarative Base\n",
    "\n",
    "Constroi uma classe base para definições de classes declarativas.\n",
    "\n",
    "A nova classe base receberá uma metaclasse que produz objetos Table apropriados e faz as chamadas mapper () apropriadas com base nas informações fornecidas declarativamente na classe e em quaisquer subclasses da classe.\n",
    "\n",
    "No caso Abaixo, a nossa classe User vai receber uma nova declarative base, relacionada a Base acima."
   ]
  },
  {
   "cell_type": "code",
   "execution_count": 3,
   "metadata": {},
   "outputs": [],
   "source": [
    "class User(Base):\n",
    "    __tablename__ = 'users'\n",
    "\n",
    "    id = Column(Integer, primary_key=True)\n",
    "    name = Column(String)\n",
    "    fullname = Column(String)\n",
    "    nickname = Column(String)\n",
    "\n",
    "    def __repr__(self):\n",
    "        return \"<User(name='%s', fullname='%s', nickname='%s')>\" % (\n",
    "            self.name, self.fullname, self.nickname)\n"
   ]
  },
  {
   "cell_type": "code",
   "execution_count": 4,
   "metadata": {},
   "outputs": [
    {
     "data": {
      "text/plain": [
       "Table('users', MetaData(), Column('id', Integer(), table=<users>, primary_key=True, nullable=False), Column('name', String(), table=<users>), Column('fullname', String(), table=<users>), Column('nickname', String(), table=<users>), schema=None)"
      ]
     },
     "execution_count": 4,
     "metadata": {},
     "output_type": "execute_result"
    }
   ],
   "source": [
    "User.__table__ "
   ]
  },
  {
   "cell_type": "code",
   "execution_count": 5,
   "metadata": {},
   "outputs": [
    {
     "name": "stdout",
     "output_type": "stream",
     "text": [
      "2021-12-01 00:50:34,488 INFO sqlalchemy.engine.Engine BEGIN (implicit)\n",
      "2021-12-01 00:50:34,494 INFO sqlalchemy.engine.Engine PRAGMA main.table_info(\"users\")\n",
      "2021-12-01 00:50:34,497 INFO sqlalchemy.engine.Engine [raw sql] ()\n",
      "2021-12-01 00:50:34,501 INFO sqlalchemy.engine.Engine COMMIT\n"
     ]
    }
   ],
   "source": [
    "\n",
    "Base.metadata.create_all(engine)\n"
   ]
  },
  {
   "cell_type": "code",
   "execution_count": 6,
   "metadata": {},
   "outputs": [],
   "source": [
    "Session = sessionmaker(bind=engine)\n",
    "Session.configure(bind=engine)\n",
    "session = Session()"
   ]
  },
  {
   "cell_type": "code",
   "execution_count": 7,
   "metadata": {},
   "outputs": [],
   "source": [
    "ed_user = User(name='ed', fullname='Ed Jones', nickname='edsnickname')\n",
    "session.add(ed_user)"
   ]
  },
  {
   "cell_type": "code",
   "execution_count": 8,
   "metadata": {},
   "outputs": [],
   "source": [
    "session.add_all([\n",
    "    User(name='wendy', fullname='Wendy Williams', nickname='windy'),\n",
    "    User(name='mary', fullname='Mary Contrary', nickname='mary'),\n",
    "    User(name='fred', fullname='Fred Flintstone', nickname='freddy')])\n"
   ]
  },
  {
   "cell_type": "code",
   "execution_count": 9,
   "metadata": {},
   "outputs": [],
   "source": [
    "ed_user.nickname = 'eddie'"
   ]
  },
  {
   "cell_type": "code",
   "execution_count": 10,
   "metadata": {},
   "outputs": [
    {
     "data": {
      "text/plain": [
       "IdentitySet([])"
      ]
     },
     "execution_count": 10,
     "metadata": {},
     "output_type": "execute_result"
    }
   ],
   "source": [
    "session.dirty"
   ]
  },
  {
   "cell_type": "code",
   "execution_count": 11,
   "metadata": {},
   "outputs": [
    {
     "name": "stdout",
     "output_type": "stream",
     "text": [
      "2021-12-01 00:50:34,862 INFO sqlalchemy.engine.Engine BEGIN (implicit)\n",
      "2021-12-01 00:50:34,867 INFO sqlalchemy.engine.Engine INSERT INTO users (name, fullname, nickname) VALUES (?, ?, ?)\n",
      "2021-12-01 00:50:34,869 INFO sqlalchemy.engine.Engine [generated in 0.00142s] ('ed', 'Ed Jones', 'eddie')\n",
      "2021-12-01 00:50:34,872 INFO sqlalchemy.engine.Engine INSERT INTO users (name, fullname, nickname) VALUES (?, ?, ?)\n",
      "2021-12-01 00:50:34,873 INFO sqlalchemy.engine.Engine [cached since 0.006085s ago] ('wendy', 'Wendy Williams', 'windy')\n",
      "2021-12-01 00:50:34,875 INFO sqlalchemy.engine.Engine INSERT INTO users (name, fullname, nickname) VALUES (?, ?, ?)\n",
      "2021-12-01 00:50:34,877 INFO sqlalchemy.engine.Engine [cached since 0.009962s ago] ('mary', 'Mary Contrary', 'mary')\n",
      "2021-12-01 00:50:34,879 INFO sqlalchemy.engine.Engine INSERT INTO users (name, fullname, nickname) VALUES (?, ?, ?)\n",
      "2021-12-01 00:50:34,882 INFO sqlalchemy.engine.Engine [cached since 0.01542s ago] ('fred', 'Fred Flintstone', 'freddy')\n",
      "2021-12-01 00:50:34,885 INFO sqlalchemy.engine.Engine COMMIT\n"
     ]
    }
   ],
   "source": [
    "session.commit()"
   ]
  },
  {
   "cell_type": "markdown",
   "metadata": {},
   "source": [
    "## Updating \n",
    "\n",
    "Para modificar valores, selecionar uma instancia e modificar o valor"
   ]
  },
  {
   "cell_type": "code",
   "execution_count": 12,
   "metadata": {},
   "outputs": [],
   "source": [
    "ed_user.name='Eduardo'"
   ]
  },
  {
   "cell_type": "markdown",
   "metadata": {},
   "source": [
    "Não esquecer de fazer o commit!"
   ]
  },
  {
   "cell_type": "code",
   "execution_count": 13,
   "metadata": {},
   "outputs": [
    {
     "name": "stdout",
     "output_type": "stream",
     "text": [
      "2021-12-01 00:50:35,076 INFO sqlalchemy.engine.Engine BEGIN (implicit)\n",
      "2021-12-01 00:50:35,084 INFO sqlalchemy.engine.Engine SELECT users.id AS users_id, users.fullname AS users_fullname, users.nickname AS users_nickname \n",
      "FROM users \n",
      "WHERE users.id = ?\n",
      "2021-12-01 00:50:35,086 INFO sqlalchemy.engine.Engine [generated in 0.00213s] (5,)\n",
      "2021-12-01 00:50:35,092 INFO sqlalchemy.engine.Engine UPDATE users SET name=? WHERE users.id = ?\n",
      "2021-12-01 00:50:35,094 INFO sqlalchemy.engine.Engine [generated in 0.00173s] ('Eduardo', 5)\n",
      "2021-12-01 00:50:35,098 INFO sqlalchemy.engine.Engine COMMIT\n"
     ]
    }
   ],
   "source": [
    "session.commit()"
   ]
  },
  {
   "cell_type": "code",
   "execution_count": 14,
   "metadata": {},
   "outputs": [],
   "source": [
    "session.flush()"
   ]
  },
  {
   "cell_type": "code",
   "execution_count": 15,
   "metadata": {},
   "outputs": [],
   "source": [
    "fake_user = User(name='fakeuser', fullname='Invalid', nickname='12345')"
   ]
  },
  {
   "cell_type": "code",
   "execution_count": 16,
   "metadata": {},
   "outputs": [],
   "source": [
    "session.add(fake_user)"
   ]
  },
  {
   "cell_type": "code",
   "execution_count": 22,
   "metadata": {},
   "outputs": [
    {
     "name": "stdout",
     "output_type": "stream",
     "text": [
      "2021-12-01 00:50:58,083 INFO sqlalchemy.engine.Engine SELECT users.id AS users_id, users.name AS users_name, users.fullname AS users_fullname, users.nickname AS users_nickname \n",
      "FROM users\n",
      "2021-12-01 00:50:58,098 INFO sqlalchemy.engine.Engine [generated in 0.01513s] ()\n"
     ]
    },
    {
     "data": {
      "text/plain": [
       "[<User(name='Eduardo', fullname='Ed Jones', nickname='eddie')>,\n",
       " <User(name='wendy', fullname='Wendy Williams', nickname='windy')>,\n",
       " <User(name='mary', fullname='Mary Contrary', nickname='mary')>,\n",
       " <User(name='fred', fullname='Fred Flintstone', nickname='freddy')>,\n",
       " <User(name='Eduardo', fullname='Ed Jones', nickname='eddie')>,\n",
       " <User(name='wendy', fullname='Wendy Williams', nickname='windy')>,\n",
       " <User(name='mary', fullname='Mary Contrary', nickname='mary')>,\n",
       " <User(name='fred', fullname='Fred Flintstone', nickname='freddy')>]"
      ]
     },
     "execution_count": 22,
     "metadata": {},
     "output_type": "execute_result"
    }
   ],
   "source": [
    "session.query(User).filter(User.name.in_(['Edwardo', 'fakeuser'])).all()"
   ]
  },
  {
   "cell_type": "code",
   "execution_count": null,
   "metadata": {},
   "outputs": [],
   "source": [
    "session.query(User).filter(User.name.in_(['Edwardo', 'fakeuser'])).all()"
   ]
  },
  {
   "cell_type": "code",
   "execution_count": 18,
   "metadata": {},
   "outputs": [
    {
     "name": "stdout",
     "output_type": "stream",
     "text": [
      "2021-12-01 00:50:37,922 INFO sqlalchemy.engine.Engine ROLLBACK\n"
     ]
    }
   ],
   "source": [
    "session.rollback()"
   ]
  },
  {
   "cell_type": "code",
   "execution_count": 19,
   "metadata": {},
   "outputs": [
    {
     "name": "stdout",
     "output_type": "stream",
     "text": [
      "2021-12-01 00:50:38,330 INFO sqlalchemy.engine.Engine BEGIN (implicit)\n",
      "2021-12-01 00:50:38,338 INFO sqlalchemy.engine.Engine SELECT users.id AS users_id, users.name AS users_name, users.fullname AS users_fullname, users.nickname AS users_nickname \n",
      "FROM users \n",
      "WHERE users.id = ?\n",
      "2021-12-01 00:50:38,340 INFO sqlalchemy.engine.Engine [generated in 0.00232s] (5,)\n"
     ]
    },
    {
     "data": {
      "text/plain": [
       "'Eduardo'"
      ]
     },
     "execution_count": 19,
     "metadata": {},
     "output_type": "execute_result"
    }
   ],
   "source": [
    "ed_user.name"
   ]
  },
  {
   "cell_type": "code",
   "execution_count": 20,
   "metadata": {},
   "outputs": [
    {
     "name": "stdout",
     "output_type": "stream",
     "text": [
      "2021-12-01 00:50:38,955 INFO sqlalchemy.engine.Engine SELECT users.id AS users_id, users.name AS users_name, users.fullname AS users_fullname, users.nickname AS users_nickname \n",
      "FROM users \n",
      "WHERE users.name LIKE ? ORDER BY users.id\n",
      "2021-12-01 00:50:38,957 INFO sqlalchemy.engine.Engine [generated in 0.00253s] ('%ed',)\n"
     ]
    },
    {
     "data": {
      "text/plain": [
       "[<User(name='fred', fullname='Fred Flintstone', nickname='freddy')>,\n",
       " <User(name='fred', fullname='Fred Flintstone', nickname='freddy')>]"
      ]
     },
     "execution_count": 20,
     "metadata": {},
     "output_type": "execute_result"
    }
   ],
   "source": [
    "query = session.query(User).filter(User.name.like('%ed')).order_by(User.id)\n",
    "query.all()"
   ]
  }
 ],
 "metadata": {
  "interpreter": {
   "hash": "aee8b7b246df8f9039afb4144a1f6fd8d2ca17a180786b69acc140d282b71a49"
  },
  "kernelspec": {
   "display_name": "Python 3.9.7 64-bit",
   "language": "python",
   "name": "python3"
  },
  "language_info": {
   "codemirror_mode": {
    "name": "ipython",
    "version": 3
   },
   "file_extension": ".py",
   "mimetype": "text/x-python",
   "name": "python",
   "nbconvert_exporter": "python",
   "pygments_lexer": "ipython3",
   "version": "3.9.7"
  },
  "orig_nbformat": 4
 },
 "nbformat": 4,
 "nbformat_minor": 2
}
